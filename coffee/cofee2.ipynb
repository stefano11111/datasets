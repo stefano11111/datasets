{
 "cells": [
  {
   "cell_type": "code",
   "execution_count": 133,
   "metadata": {},
   "outputs": [
    {
     "name": "stdout",
     "output_type": "stream",
     "text": [
      "target    float64\n",
      "prima1    float64\n",
      "prima2    float64\n",
      "dtype: object\n",
      "            target  prima1  prima2\n",
      "date                              \n",
      "2023-07-10  1.5985  1.5937  1.6011\n",
      "2023-07-11  1.5710  1.5985  1.5937\n",
      "2023-07-12  1.5711  1.5710  1.5985\n",
      "2023-07-13  1.5795  1.5711  1.5710\n",
      "2023-07-14  1.5918  1.5795  1.5711\n",
      "2023-07-17  1.5483  1.5918  1.5795\n",
      "2023-07-18  1.5563  1.5483  1.5918\n",
      "2023-07-19  1.5567  1.5563  1.5483\n",
      "2023-07-20  1.5849  1.5567  1.5563\n",
      "2023-07-21  1.6053  1.5849  1.5567\n",
      "2023-07-24  1.6306  1.6053  1.5849\n",
      "2023-07-25  1.6176  1.6306  1.6053\n",
      "2023-07-26  1.6337  1.6176  1.6306\n",
      "2023-07-27  1.6104  1.6337  1.6176\n",
      "2023-07-28  1.5839  1.6104  1.6337\n",
      "2023-07-31  1.6537  1.5839  1.6104\n",
      "2023-08-01  1.6458  1.6537  1.5839\n",
      "2023-08-02  1.6618  1.6458  1.6537\n",
      "2023-08-03  1.6340  1.6618  1.6458\n",
      "2023-08-04  1.6167  1.6340  1.6618\n"
     ]
    }
   ],
   "source": [
    "import pandas as pd\n",
    "from sklearn.preprocessing import StandardScaler\n",
    "db=pd.read_csv(\"coffee-prices-historical-data.csv\")\n",
    "db.dropna(inplace=True)\n",
    "db[\"date\"]=pd.to_datetime(db[\"date\"])\n",
    "db.rename(columns={\" value\":\"target\"},inplace=True)\n",
    "db[\"prima1\"]=db[\"target\"].shift(1)\n",
    "db[\"prima2\"]=db[\"target\"].shift(2)\n",
    "db.dropna(inplace=True)\n",
    "# scalerprima=StandardScaler()\n",
    "# db[[\"prima1\",\"prima2\"]]=scalerprima.fit_transform(db[[\"prima1\",\"prima2\"]])\n",
    "# scalertarget=StandardScaler()\n",
    "# db[\"target\"]=scalertarget.fit_transform(db[[\"target\"]])\n",
    "db.set_index('date', inplace=True)\n",
    "\n",
    "\n",
    "print(db.dtypes)\n",
    "print(db.tail(20))"
   ]
  },
  {
   "cell_type": "code",
   "execution_count": 141,
   "metadata": {},
   "outputs": [
    {
     "name": "stdout",
     "output_type": "stream",
     "text": [
      "            prima1  prima2\n",
      "date                      \n",
      "1973-08-22  0.6710  0.6735\n",
      "1973-08-23  0.6580  0.6710\n",
      "1973-08-24  0.6675  0.6580\n",
      "1973-08-27  0.6660  0.6675\n",
      "1973-08-28  0.6590  0.6660\n"
     ]
    },
    {
     "name": "stderr",
     "output_type": "stream",
     "text": [
      "c:\\Users\\stefa\\AppData\\Local\\Programs\\Python\\Python311\\Lib\\site-packages\\statsmodels\\tsa\\base\\tsa_model.py:473: ValueWarning: A date index has been provided, but it has no associated frequency information and so will be ignored when e.g. forecasting.\n",
      "  self._init_dates(dates, freq)\n",
      "c:\\Users\\stefa\\AppData\\Local\\Programs\\Python\\Python311\\Lib\\site-packages\\statsmodels\\tsa\\base\\tsa_model.py:473: ValueWarning: A date index has been provided, but it is not monotonic and so will be ignored when e.g. forecasting.\n",
      "  self._init_dates(dates, freq)\n",
      "c:\\Users\\stefa\\AppData\\Local\\Programs\\Python\\Python311\\Lib\\site-packages\\statsmodels\\tsa\\base\\tsa_model.py:473: ValueWarning: A date index has been provided, but it has no associated frequency information and so will be ignored when e.g. forecasting.\n",
      "  self._init_dates(dates, freq)\n",
      "c:\\Users\\stefa\\AppData\\Local\\Programs\\Python\\Python311\\Lib\\site-packages\\statsmodels\\tsa\\base\\tsa_model.py:473: ValueWarning: A date index has been provided, but it is not monotonic and so will be ignored when e.g. forecasting.\n",
      "  self._init_dates(dates, freq)\n",
      "c:\\Users\\stefa\\AppData\\Local\\Programs\\Python\\Python311\\Lib\\site-packages\\statsmodels\\tsa\\base\\tsa_model.py:473: ValueWarning: A date index has been provided, but it has no associated frequency information and so will be ignored when e.g. forecasting.\n",
      "  self._init_dates(dates, freq)\n",
      "c:\\Users\\stefa\\AppData\\Local\\Programs\\Python\\Python311\\Lib\\site-packages\\statsmodels\\tsa\\base\\tsa_model.py:473: ValueWarning: A date index has been provided, but it is not monotonic and so will be ignored when e.g. forecasting.\n",
      "  self._init_dates(dates, freq)\n",
      "c:\\Users\\stefa\\AppData\\Local\\Programs\\Python\\Python311\\Lib\\site-packages\\statsmodels\\tsa\\statespace\\sarimax.py:966: UserWarning: Non-stationary starting autoregressive parameters found. Using zeros as starting parameters.\n",
      "  warn('Non-stationary starting autoregressive parameters'\n"
     ]
    },
    {
     "name": "stdout",
     "output_type": "stream",
     "text": [
      "          value\n",
      "8778   1.293370\n",
      "8779   1.293370\n",
      "8780   1.293370\n",
      "8781   1.293370\n",
      "8782   1.293370\n",
      "...         ...\n",
      "12536  1.293323\n",
      "12537  1.293323\n",
      "12538  1.293323\n",
      "12539  1.293323\n",
      "12540  1.293323\n",
      "\n",
      "[3763 rows x 1 columns]\n",
      "            target  prima1  prima2\n",
      "date                              \n",
      "2023-07-31  1.6537  1.5839  1.6104\n",
      "2023-08-01  1.6458  1.6537  1.5839\n",
      "2023-08-02  1.6618  1.6458  1.6537\n",
      "2023-08-03  1.6340  1.6618  1.6458\n",
      "2023-08-04  1.6167  1.6340  1.6618\n"
     ]
    },
    {
     "name": "stderr",
     "output_type": "stream",
     "text": [
      "c:\\Users\\stefa\\AppData\\Local\\Programs\\Python\\Python311\\Lib\\site-packages\\statsmodels\\tsa\\base\\tsa_model.py:836: ValueWarning: No supported index is available. Prediction results will be given with an integer index beginning at `start`.\n",
      "  return get_prediction_index(\n",
      "c:\\Users\\stefa\\AppData\\Local\\Programs\\Python\\Python311\\Lib\\site-packages\\statsmodels\\tsa\\base\\tsa_model.py:836: FutureWarning: No supported index is available. In the next version, calling this method in a model without a supported index will result in an exception.\n",
      "  return get_prediction_index(\n",
      "c:\\Users\\stefa\\AppData\\Local\\Programs\\Python\\Python311\\Lib\\site-packages\\statsmodels\\tsa\\statespace\\representation.py:374: FutureWarning: Unknown keyword arguments: dict_keys(['typ']).Passing unknown keyword arguments will raise a TypeError beginning in version 0.15.\n",
      "  warnings.warn(msg, FutureWarning)\n"
     ]
    }
   ],
   "source": [
    "from statsmodels.tsa.arima.model import ARIMA\n",
    "from sklearn.model_selection import train_test_split\n",
    "import datetime\n",
    "\n",
    "x=db[[\"prima1\",\"prima2\"]]\n",
    "y=db[\"target\"]\n",
    "print(x.head())\n",
    "xtrain,xtest,ytrain,ytest=train_test_split(x,y,train_size=0.7,random_state=0)\n",
    "model=ARIMA(ytrain,order=(1,0,1))\n",
    "modelfit=model.fit()\n",
    "# start=(db.index[-1]+datetime.timedelta(days=4))\n",
    "# end=(start+datetime.timedelta(days=4))\n",
    "# start=start.date()\n",
    "# end=end.date()\n",
    "predictions = modelfit.predict(start=len(ytrain),end=len(ytrain)+len(ytest),typ=\"levels\")\n",
    "pre=pd.DataFrame({\"value\":predictions})\n",
    "# pre[\"value\"]=scalertarget.inverse_transform(pre[[\"value\"]])\n",
    "# print(predictions)\n",
    "print(pre)\n",
    "print(db.tail())\n",
    "\n"
   ]
  },
  {
   "cell_type": "code",
   "execution_count": 135,
   "metadata": {},
   "outputs": [],
   "source": [
    "# x=db[[\"prima1\",\"prima2\"]]\n",
    "# y=db[\"target\"]\n",
    "# from sklearn.ensemble import GradientBoostingRegressor\n",
    "# from sklearn.metrics import r2_score\n",
    "# model2=GradientBoostingRegressor(n_estimators=100, learning_rate=0.1, random_state=42)\n",
    "# model2.fit(xtrain,ytrain)\n",
    "# new=pd.DataFrame({\"prima1\":[0.702022],\n",
    "#                   \"prima2\":[0.666730]},index=[0])\n",
    "\n",
    "# pred2=model2.predict(new)\n",
    "# newpred=pd.DataFrame({\"value\":pred2})\n",
    "# newpred[\"value\"]=scalertarget.inverse_transform(newpred[[\"value\"]])\n",
    "# print(newpred)\n"
   ]
  }
 ],
 "metadata": {
  "kernelspec": {
   "display_name": "Python 3",
   "language": "python",
   "name": "python3"
  },
  "language_info": {
   "codemirror_mode": {
    "name": "ipython",
    "version": 3
   },
   "file_extension": ".py",
   "mimetype": "text/x-python",
   "name": "python",
   "nbconvert_exporter": "python",
   "pygments_lexer": "ipython3",
   "version": "3.11.3"
  },
  "orig_nbformat": 4
 },
 "nbformat": 4,
 "nbformat_minor": 2
}
