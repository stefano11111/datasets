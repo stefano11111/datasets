{
 "cells": [
  {
   "cell_type": "code",
   "execution_count": 3,
   "metadata": {},
   "outputs": [
    {
     "name": "stdout",
     "output_type": "stream",
     "text": [
      "   target\n",
      "0    23.0\n",
      "1    25.0\n",
      "2    27.0\n"
     ]
    }
   ],
   "source": [
    "import pandas as pd\n",
    "\n",
    "data = {\n",
    "    'Feature_1': [1, 2, 3, 4, 5, 6, 7, 8, 9, 10],\n",
    "    'Feature_2': [2, 4, 5, 7, 8, 10, 11, 13, 14, 16],\n",
    "    'Target': [3, 5, 7, 9, 11, 13, 15, 17, 19, 21]\n",
    "}\n",
    "\n",
    "df = pd.DataFrame(data)\n",
    "df.columns=[\"col1\",\"col2\",\"target\"]\n",
    "from sklearn.preprocessing import StandardScaler\n",
    "from sklearn.model_selection import train_test_split, cross_validate\n",
    "from sklearn.linear_model import LinearRegression\n",
    "from sklearn.svm import SVR\n",
    "from sklearn.metrics import r2_score,accuracy_score\n",
    "scalertarget=StandardScaler()\n",
    "df1=df.copy()\n",
    "df1[\"target\"]=scalertarget.fit_transform(df1[[\"target\"]])\n",
    "scalercol=StandardScaler()\n",
    "df1[[\"col1\",\"col2\"]]=scalercol.fit_transform(df1[[\"col1\",\"col2\"]])\n",
    "model=LinearRegression()\n",
    "x=df1.drop(columns=[\"target\"])\n",
    "y=df1[\"target\"]\n",
    "# result=cross_validate(model,x,y,cv=10,scoring=\"r2\")\n",
    "# print(result[\"test_score\"].mean())\n",
    "xtrain,xtest,ytrain,ytest=train_test_split(x,y,train_size=0.7, random_state=0)\n",
    "model.fit(xtrain,ytrain)\n",
    "pred=model.predict(xtest)\n",
    "\n",
    "\n",
    "nuovi_dati = {\n",
    "    'Feature_1': [11, 12, 13],\n",
    "    'Feature_2': [17, 18, 19]\n",
    "}\n",
    "nuovi_dati=pd.DataFrame(nuovi_dati)\n",
    "nuovi_dati.columns=[\"col1\",\"col2\"]\n",
    "nuovi_dati[[\"col1\",\"col2\"]]=scalercol.transform(nuovi_dati[[\"col1\",\"col2\"]])#lo scalercol deve essere lo stesso usato nell'addestramento, poi uso solo transform\n",
    "# print(nuovi_dati)\n",
    "pred2=model.predict(nuovi_dati)\n",
    "pes=pd.DataFrame({\"target\":pred2})\n",
    "pes[\"target\"]=scalertarget.inverse_transform(pes[[\"target\"]])\n",
    "\n",
    "print(pes)\n"
   ]
  }
 ],
 "metadata": {
  "kernelspec": {
   "display_name": "Python 3",
   "language": "python",
   "name": "python3"
  },
  "language_info": {
   "codemirror_mode": {
    "name": "ipython",
    "version": 3
   },
   "file_extension": ".py",
   "mimetype": "text/x-python",
   "name": "python",
   "nbconvert_exporter": "python",
   "pygments_lexer": "ipython3",
   "version": "3.11.3"
  },
  "orig_nbformat": 4
 },
 "nbformat": 4,
 "nbformat_minor": 2
}
